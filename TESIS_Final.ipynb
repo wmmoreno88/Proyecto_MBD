{
 "cells": [
  {
   "cell_type": "code",
   "execution_count": 1,
   "id": "777c16c3",
   "metadata": {},
   "outputs": [],
   "source": [
    "# Importación de paquetes\n",
    "import numpy as np\n",
    "import pandas as pd\n",
    "import matplotlib.pyplot as plt\n",
    "from sklearn.cluster import KMeans\n",
    "import seaborn as sns\n",
    "from nltk.sentiment.vader import SentimentIntensityAnalyzer\n",
    "import nltk"
   ]
  },
  {
   "cell_type": "code",
   "execution_count": 2,
   "id": "4cc2e4f1",
   "metadata": {},
   "outputs": [
    {
     "data": {
      "text/html": [
       "<div>\n",
       "<style scoped>\n",
       "    .dataframe tbody tr th:only-of-type {\n",
       "        vertical-align: middle;\n",
       "    }\n",
       "\n",
       "    .dataframe tbody tr th {\n",
       "        vertical-align: top;\n",
       "    }\n",
       "\n",
       "    .dataframe thead th {\n",
       "        text-align: right;\n",
       "    }\n",
       "</style>\n",
       "<table border=\"1\" class=\"dataframe\">\n",
       "  <thead>\n",
       "    <tr style=\"text-align: right;\">\n",
       "      <th></th>\n",
       "      <th>source</th>\n",
       "      <th>review_description</th>\n",
       "      <th>rating</th>\n",
       "      <th>review_date</th>\n",
       "      <th>Sentimiento</th>\n",
       "      <th>Polaridad</th>\n",
       "    </tr>\n",
       "  </thead>\n",
       "  <tbody>\n",
       "    <tr>\n",
       "      <th>0</th>\n",
       "      <td>Google Play</td>\n",
       "      <td>Meh. Not the greatest experience on a Chromebo...</td>\n",
       "      <td>2</td>\n",
       "      <td>2023-07-08 14:18:24</td>\n",
       "      <td></td>\n",
       "      <td>0.0</td>\n",
       "    </tr>\n",
       "    <tr>\n",
       "      <th>1</th>\n",
       "      <td>Google Play</td>\n",
       "      <td>Pretty good for a first launch!! Its easy to u...</td>\n",
       "      <td>3</td>\n",
       "      <td>2023-07-19 20:52:48</td>\n",
       "      <td></td>\n",
       "      <td>0.0</td>\n",
       "    </tr>\n",
       "    <tr>\n",
       "      <th>2</th>\n",
       "      <td>Google Play</td>\n",
       "      <td>For a brand new app, it's very well optimized....</td>\n",
       "      <td>3</td>\n",
       "      <td>2023-07-06 23:03:11</td>\n",
       "      <td></td>\n",
       "      <td>0.0</td>\n",
       "    </tr>\n",
       "    <tr>\n",
       "      <th>3</th>\n",
       "      <td>Google Play</td>\n",
       "      <td>Great app with a lot of potential! However, th...</td>\n",
       "      <td>3</td>\n",
       "      <td>2023-07-10 00:53:25</td>\n",
       "      <td></td>\n",
       "      <td>0.0</td>\n",
       "    </tr>\n",
       "    <tr>\n",
       "      <th>4</th>\n",
       "      <td>Google Play</td>\n",
       "      <td>The app is good, but it needs a lot of functio...</td>\n",
       "      <td>3</td>\n",
       "      <td>2023-07-06 16:57:43</td>\n",
       "      <td></td>\n",
       "      <td>0.0</td>\n",
       "    </tr>\n",
       "  </tbody>\n",
       "</table>\n",
       "</div>"
      ],
      "text/plain": [
       "        source                                 review_description  rating  \\\n",
       "0  Google Play  Meh. Not the greatest experience on a Chromebo...       2   \n",
       "1  Google Play  Pretty good for a first launch!! Its easy to u...       3   \n",
       "2  Google Play  For a brand new app, it's very well optimized....       3   \n",
       "3  Google Play  Great app with a lot of potential! However, th...       3   \n",
       "4  Google Play  The app is good, but it needs a lot of functio...       3   \n",
       "\n",
       "           review_date Sentimiento  Polaridad  \n",
       "0  2023-07-08 14:18:24                    0.0  \n",
       "1  2023-07-19 20:52:48                    0.0  \n",
       "2  2023-07-06 23:03:11                    0.0  \n",
       "3  2023-07-10 00:53:25                    0.0  \n",
       "4  2023-07-06 16:57:43                    0.0  "
      ]
     },
     "execution_count": 2,
     "metadata": {},
     "output_type": "execute_result"
    }
   ],
   "source": [
    "url = \"threads_reviews.csv\"\n",
    "dataset = pd.read_csv(url, sep = \",\")\n",
    "dataset['Sentimiento'] = ''\n",
    "dataset['Polaridad'] = 0.0\n",
    "dataset.head()"
   ]
  },
  {
   "cell_type": "markdown",
   "id": "6ca92ccc",
   "metadata": {},
   "source": [
    "### Analisis descriptivo"
   ]
  },
  {
   "cell_type": "code",
   "execution_count": 3,
   "id": "a3c405b3",
   "metadata": {},
   "outputs": [],
   "source": [
    "# Análisis descriptivo de las variables\n",
    "source_counts = dataset['source'].value_counts()\n",
    "average_description_length = dataset['review_description'].str.len().mean()\n",
    "rating_summary = dataset['rating'].describe()\n",
    "earliest_review_date = dataset['review_date'].min()\n",
    "latest_review_date = dataset['review_date'].max()"
   ]
  },
  {
   "cell_type": "code",
   "execution_count": 4,
   "id": "cefa5c13",
   "metadata": {},
   "outputs": [
    {
     "name": "stdout",
     "output_type": "stream",
     "text": [
      "Conteo de categorías en la variable 'source':\n",
      "Google Play    30270\n",
      "App Store       2640\n",
      "Name: source, dtype: int64\n",
      "\n",
      "Longitud promedio de descripciones de reseñas:\n",
      "65.73491340018232\n",
      "\n",
      "Resumen estadístico de la variable 'rating':\n",
      "count    32910.000000\n",
      "mean         3.398481\n",
      "std          1.751480\n",
      "min          1.000000\n",
      "25%          1.000000\n",
      "50%          4.000000\n",
      "75%          5.000000\n",
      "max          5.000000\n",
      "Name: rating, dtype: float64\n",
      "\n",
      "Fecha más temprana de revisión:\n",
      "2023-07-05 22:53:12\n",
      "\n",
      "Fecha más reciente de revisión:\n",
      "2023-07-25 09:42:20\n"
     ]
    }
   ],
   "source": [
    "# Imprimir los resultados\n",
    "print(\"Conteo de categorías en la variable 'source':\")\n",
    "print(source_counts)\n",
    "\n",
    "print(\"\\nLongitud promedio de descripciones de reseñas:\")\n",
    "print(average_description_length)\n",
    "\n",
    "print(\"\\nResumen estadístico de la variable 'rating':\")\n",
    "print(rating_summary)\n",
    "\n",
    "print(\"\\nFecha más temprana de revisión:\")\n",
    "print(earliest_review_date)\n",
    "\n",
    "print(\"\\nFecha más reciente de revisión:\")\n",
    "print(latest_review_date)"
   ]
  },
  {
   "cell_type": "code",
   "execution_count": 5,
   "id": "e58f0dec",
   "metadata": {},
   "outputs": [
    {
     "data": {
      "image/png": "[encoded data removed]",
      "text/plain": [
       "<Figure size 1000x600 with 1 Axes>"
      ]
     },
     "metadata": {},
     "output_type": "display_data"
    }
   ],
   "source": [
    "# Crear un gráfico de barras\n",
    "plt.figure(figsize=(10, 6))\n",
    "source_counts.plot(kind='bar')\n",
    "plt.title(\"Distribución de Fuente (Source) en las Reseñas\")\n",
    "plt.xlabel(\"Fuente\")\n",
    "plt.ylabel(\"Número de Reseñas\")\n",
    "plt.xticks(rotation=45)  # Rotar las etiquetas del eje x para una mejor legibilidad\n",
    "\n",
    "# Mostrar el gráfico\n",
    "plt.show()"
   ]
  },
  {
   "cell_type": "code",
   "execution_count": 9,
   "id": "a1f4f1da",
   "metadata": {},
   "outputs": [
    {
     "data": {
      "image/png": "[encoded data removed]",
      "text/plain": [
       "<Figure size 1000x600 with 1 Axes>"
      ]
     },
     "metadata": {},
     "output_type": "display_data"
    }
   ],
   "source": [
    "import pandas as pd\n",
    "import matplotlib.pyplot as plt\n",
    "\n",
    "# Supongamos que tienes un DataFrame llamado \"df\" que contiene tus datos.\n",
    "\n",
    "# Utiliza crosstab para crear una tabla cruzada\n",
    "cross_table = pd.crosstab(dataset['source'], dataset['rating'])\n",
    "\n",
    "# Luego, puedes crear un gráfico de barras a partir de la tabla cruzada\n",
    "cross_table.plot(kind='bar', stacked=True, figsize=(10, 6))\n",
    "\n",
    "plt.title(\"Gráfico de Barras Cruzado entre Fuente y Clasificación\")\n",
    "plt.xlabel(\"Fuente\")\n",
    "plt.ylabel(\"Número de Reseñas\")\n",
    "plt.xticks(rotation=45)\n",
    "\n",
    "# Muestra el gráfico\n",
    "plt.show()\n",
    "\n"
   ]
  },
  {
   "cell_type": "code",
   "execution_count": 10,
   "id": "1f040fc7",
   "metadata": {},
   "outputs": [
    {
     "name": "stdout",
     "output_type": "stream",
     "text": [
      "Collecting textstat\n",
      "  Downloading textstat-0.7.3-py3-none-any.whl (105 kB)\n",
      "     ------------------------------------ 105.1/105.1 kB 759.0 kB/s eta 0:00:00\n",
      "Collecting pyphen (from textstat)\n",
      "  Downloading pyphen-0.14.0-py3-none-any.whl (2.0 MB)\n",
      "     ---------------------------------------- 2.0/2.0 MB 5.5 MB/s eta 0:00:00\n",
      "Installing collected packages: pyphen, textstat\n",
      "Successfully installed pyphen-0.14.0 textstat-0.7.3\n",
      "Note: you may need to restart the kernel to use updated packages.\n"
     ]
    },
    {
     "name": "stderr",
     "output_type": "stream",
     "text": [
      "\n",
      "[notice] A new release of pip is available: 23.2.1 -> 23.3.1\n",
      "[notice] To update, run: python.exe -m pip install --upgrade pip\n"
     ]
    }
   ],
   "source": [
    "# pip install textstat"
   ]
  },
  {
   "cell_type": "code",
   "execution_count": 13,
   "id": "fbef4e9c",
   "metadata": {},
   "outputs": [],
   "source": [
    "from textstat import flesch_reading_ease, smog_index, coleman_liau_index\n",
    "\n",
    "# Supongamos que tienes un DataFrame llamado 'df' con una columna 'review_description'\n",
    "\n",
    "# Calcular la legibilidad utilizando la métrica Flesch Reading Ease\n",
    "dataset['flesch_reading_ease'] = dataset['review_description'].apply(flesch_reading_ease)\n",
    "\n",
    "# Calcular la legibilidad utilizando la métrica SMOG Index\n",
    "dataset['smog_index'] = dataset['review_description'].apply(smog_index)\n",
    "\n",
    "# Calcular la legibilidad utilizando la métrica Coleman-Liau Index\n",
    "dataset['coleman_liau_index'] = dataset['review_description'].apply(coleman_liau_index)\n",
    "\n",
    "# Ahora 'df' contiene columnas adicionales con las estadísticas de legibilidad\n"
   ]
  },
  {
   "cell_type": "code",
   "execution_count": 17,
   "id": "9e00ccf1",
   "metadata": {},
   "outputs": [
    {
     "data": {
      "text/html": [
       "<div>\n",
       "<style scoped>\n",
       "    .dataframe tbody tr th:only-of-type {\n",
       "        vertical-align: middle;\n",
       "    }\n",
       "\n",
       "    .dataframe tbody tr th {\n",
       "        vertical-align: top;\n",
       "    }\n",
       "\n",
       "    .dataframe thead th {\n",
       "        text-align: right;\n",
       "    }\n",
       "</style>\n",
       "<table border=\"1\" class=\"dataframe\">\n",
       "  <thead>\n",
       "    <tr style=\"text-align: right;\">\n",
       "      <th></th>\n",
       "      <th>source</th>\n",
       "      <th>review_description</th>\n",
       "      <th>rating</th>\n",
       "      <th>review_date</th>\n",
       "      <th>Sentimiento</th>\n",
       "      <th>Polaridad</th>\n",
       "      <th>flesch_reading_ease</th>\n",
       "      <th>smog_index</th>\n",
       "      <th>coleman_liau_index</th>\n",
       "    </tr>\n",
       "  </thead>\n",
       "  <tbody>\n",
       "    <tr>\n",
       "      <th>0</th>\n",
       "      <td>Google Play</td>\n",
       "      <td>Meh. Not the greatest experience on a Chromebo...</td>\n",
       "      <td>2</td>\n",
       "      <td>2023-07-08 14:18:24</td>\n",
       "      <td></td>\n",
       "      <td>0.0</td>\n",
       "      <td>74.39</td>\n",
       "      <td>8.8</td>\n",
       "      <td>8.00</td>\n",
       "    </tr>\n",
       "    <tr>\n",
       "      <th>1</th>\n",
       "      <td>Google Play</td>\n",
       "      <td>Pretty good for a first launch!! Its easy to u...</td>\n",
       "      <td>3</td>\n",
       "      <td>2023-07-19 20:52:48</td>\n",
       "      <td></td>\n",
       "      <td>0.0</td>\n",
       "      <td>52.53</td>\n",
       "      <td>14.6</td>\n",
       "      <td>10.16</td>\n",
       "    </tr>\n",
       "    <tr>\n",
       "      <th>2</th>\n",
       "      <td>Google Play</td>\n",
       "      <td>For a brand new app, it's very well optimized....</td>\n",
       "      <td>3</td>\n",
       "      <td>2023-07-06 23:03:11</td>\n",
       "      <td></td>\n",
       "      <td>0.0</td>\n",
       "      <td>83.66</td>\n",
       "      <td>7.4</td>\n",
       "      <td>6.83</td>\n",
       "    </tr>\n",
       "    <tr>\n",
       "      <th>3</th>\n",
       "      <td>Google Play</td>\n",
       "      <td>Great app with a lot of potential! However, th...</td>\n",
       "      <td>3</td>\n",
       "      <td>2023-07-10 00:53:25</td>\n",
       "      <td></td>\n",
       "      <td>0.0</td>\n",
       "      <td>80.92</td>\n",
       "      <td>9.3</td>\n",
       "      <td>5.80</td>\n",
       "    </tr>\n",
       "    <tr>\n",
       "      <th>4</th>\n",
       "      <td>Google Play</td>\n",
       "      <td>The app is good, but it needs a lot of functio...</td>\n",
       "      <td>3</td>\n",
       "      <td>2023-07-06 16:57:43</td>\n",
       "      <td></td>\n",
       "      <td>0.0</td>\n",
       "      <td>72.36</td>\n",
       "      <td>8.8</td>\n",
       "      <td>7.07</td>\n",
       "    </tr>\n",
       "  </tbody>\n",
       "</table>\n",
       "</div>"
      ],
      "text/plain": [
       "        source                                 review_description  rating  \\\n",
       "0  Google Play  Meh. Not the greatest experience on a Chromebo...       2   \n",
       "1  Google Play  Pretty good for a first launch!! Its easy to u...       3   \n",
       "2  Google Play  For a brand new app, it's very well optimized....       3   \n",
       "3  Google Play  Great app with a lot of potential! However, th...       3   \n",
       "4  Google Play  The app is good, but it needs a lot of functio...       3   \n",
       "\n",
       "           review_date Sentimiento  Polaridad  flesch_reading_ease  \\\n",
       "0  2023-07-08 14:18:24                    0.0                74.39   \n",
       "1  2023-07-19 20:52:48                    0.0                52.53   \n",
       "2  2023-07-06 23:03:11                    0.0                83.66   \n",
       "3  2023-07-10 00:53:25                    0.0                80.92   \n",
       "4  2023-07-06 16:57:43                    0.0                72.36   \n",
       "\n",
       "   smog_index  coleman_liau_index  \n",
       "0         8.8                8.00  \n",
       "1        14.6               10.16  \n",
       "2         7.4                6.83  \n",
       "3         9.3                5.80  \n",
       "4         8.8                7.07  "
      ]
     },
     "execution_count": 17,
     "metadata": {},
     "output_type": "execute_result"
    }
   ],
   "source": [
    "dataset.head()"
   ]
  },
  {
   "cell_type": "code",
   "execution_count": 15,
   "id": "edbd7cc4",
   "metadata": {},
   "outputs": [
    {
     "name": "stdout",
     "output_type": "stream",
     "text": [
      "       flesch_reading_ease    smog_index  coleman_liau_index\n",
      "count         32910.000000  32910.000000        32910.000000\n",
      "mean             88.031304      0.797387           -0.071128\n",
      "std              41.134309      2.513938           11.154391\n",
      "min            -786.040000      0.000000          -39.610000\n",
      "25%              70.500000      0.000000           -5.810000\n",
      "50%              88.740000      0.000000            3.350000\n",
      "75%             119.190000      0.000000            7.250000\n",
      "max             206.840000     16.900000          200.630000\n"
     ]
    }
   ],
   "source": [
    "# Calcula el resumen estadístico\n",
    "summary = dataset[['flesch_reading_ease', 'smog_index', 'coleman_liau_index']].describe()\n",
    "\n",
    "# Imprime el resumen estadístico\n",
    "print(summary)"
   ]
  },
  {
   "cell_type": "code",
   "execution_count": 16,
   "id": "aaa79cf1",
   "metadata": {},
   "outputs": [
    {
     "data": {
      "image/png": "[encoded data removed]",
      "text/plain": [
       "<Figure size 1000x600 with 1 Axes>"
      ]
     },
     "metadata": {},
     "output_type": "display_data"
    }
   ],
   "source": [
    "# Supongamos que tienes un DataFrame llamado 'df' que contiene tus datos\n",
    "# Puedes seleccionar las columnas relevantes para las métricas de legibilidad\n",
    "legibility_metrics = dataset[['flesch_reading_ease', 'smog_index', 'coleman_liau_index']]\n",
    "\n",
    "# Crear un gráfico de cajas para visualizar la distribución de las métricas\n",
    "plt.figure(figsize=(10, 6))\n",
    "legibility_metrics.boxplot()\n",
    "plt.title(\"Distribución de Métricas de Legibilidad\")\n",
    "plt.ylabel(\"Valor de la Métrica\")\n",
    "plt.xticks(rotation=45)\n",
    "plt.show()\n"
   ]
  },
  {
   "cell_type": "markdown",
   "id": "0a195b8a",
   "metadata": {},
   "source": [
    "---"
   ]
  },
  {
   "cell_type": "code",
   "execution_count": 3,
   "id": "64abf8b8",
   "metadata": {},
   "outputs": [
    {
     "name": "stderr",
     "output_type": "stream",
     "text": [
      "[nltk_data] Downloading package vader_lexicon to\n",
      "[nltk_data]     C:\\Users\\User\\AppData\\Roaming\\nltk_data...\n",
      "[nltk_data]   Package vader_lexicon is already up-to-date!\n"
     ]
    }
   ],
   "source": [
    "nltk.download('vader_lexicon')\n",
    "sia = SentimentIntensityAnalyzer()"
   ]
  },
  {
   "cell_type": "code",
   "execution_count": 4,
   "id": "8310ef82",
   "metadata": {},
   "outputs": [],
   "source": [
    "tweets  = dataset.review_description"
   ]
  },
  {
   "cell_type": "code",
   "execution_count": 5,
   "id": "634bc321",
   "metadata": {},
   "outputs": [],
   "source": [
    "# Realizar análisis de sentimientos y guardar los resultados en el conjunto de datos\n",
    "for index, row in dataset.iterrows():\n",
    "    tweet = row['review_description']\n",
    "    resultados = sia.polarity_scores(tweet)\n",
    "    polaridad = resultados['compound']\n",
    "    \n",
    "    if polaridad > 0.05:\n",
    "        sentimiento = \"positivo\"\n",
    "    elif polaridad < -0.05:\n",
    "        sentimiento = \"negativo\"\n",
    "    else:\n",
    "        sentimiento = \"neutral\"\n",
    "    \n",
    "    dataset.at[index, 'Sentimiento'] = sentimiento\n",
    "    dataset.at[index, 'Polaridad'] = polaridad\n"
   ]
  },
  {
   "cell_type": "code",
   "execution_count": 6,
   "id": "9477e89f",
   "metadata": {},
   "outputs": [
    {
     "data": {
      "text/html": [
       "<div>\n",
       "<style scoped>\n",
       "    .dataframe tbody tr th:only-of-type {\n",
       "        vertical-align: middle;\n",
       "    }\n",
       "\n",
       "    .dataframe tbody tr th {\n",
       "        vertical-align: top;\n",
       "    }\n",
       "\n",
       "    .dataframe thead th {\n",
       "        text-align: right;\n",
       "    }\n",
       "</style>\n",
       "<table border=\"1\" class=\"dataframe\">\n",
       "  <thead>\n",
       "    <tr style=\"text-align: right;\">\n",
       "      <th></th>\n",
       "      <th>source</th>\n",
       "      <th>review_description</th>\n",
       "      <th>rating</th>\n",
       "      <th>review_date</th>\n",
       "      <th>Sentimiento</th>\n",
       "      <th>Polaridad</th>\n",
       "    </tr>\n",
       "  </thead>\n",
       "  <tbody>\n",
       "    <tr>\n",
       "      <th>0</th>\n",
       "      <td>Google Play</td>\n",
       "      <td>Meh. Not the greatest experience on a Chromebo...</td>\n",
       "      <td>2</td>\n",
       "      <td>2023-07-08 14:18:24</td>\n",
       "      <td>negativo</td>\n",
       "      <td>-0.7117</td>\n",
       "    </tr>\n",
       "    <tr>\n",
       "      <th>1</th>\n",
       "      <td>Google Play</td>\n",
       "      <td>Pretty good for a first launch!! Its easy to u...</td>\n",
       "      <td>3</td>\n",
       "      <td>2023-07-19 20:52:48</td>\n",
       "      <td>positivo</td>\n",
       "      <td>0.9899</td>\n",
       "    </tr>\n",
       "    <tr>\n",
       "      <th>2</th>\n",
       "      <td>Google Play</td>\n",
       "      <td>For a brand new app, it's very well optimized....</td>\n",
       "      <td>3</td>\n",
       "      <td>2023-07-06 23:03:11</td>\n",
       "      <td>positivo</td>\n",
       "      <td>0.9076</td>\n",
       "    </tr>\n",
       "    <tr>\n",
       "      <th>3</th>\n",
       "      <td>Google Play</td>\n",
       "      <td>Great app with a lot of potential! However, th...</td>\n",
       "      <td>3</td>\n",
       "      <td>2023-07-10 00:53:25</td>\n",
       "      <td>positivo</td>\n",
       "      <td>0.4114</td>\n",
       "    </tr>\n",
       "    <tr>\n",
       "      <th>4</th>\n",
       "      <td>Google Play</td>\n",
       "      <td>The app is good, but it needs a lot of functio...</td>\n",
       "      <td>3</td>\n",
       "      <td>2023-07-06 16:57:43</td>\n",
       "      <td>positivo</td>\n",
       "      <td>0.8860</td>\n",
       "    </tr>\n",
       "  </tbody>\n",
       "</table>\n",
       "</div>"
      ],
      "text/plain": [
       "        source                                 review_description  rating  \\\n",
       "0  Google Play  Meh. Not the greatest experience on a Chromebo...       2   \n",
       "1  Google Play  Pretty good for a first launch!! Its easy to u...       3   \n",
       "2  Google Play  For a brand new app, it's very well optimized....       3   \n",
       "3  Google Play  Great app with a lot of potential! However, th...       3   \n",
       "4  Google Play  The app is good, but it needs a lot of functio...       3   \n",
       "\n",
       "           review_date Sentimiento  Polaridad  \n",
       "0  2023-07-08 14:18:24    negativo    -0.7117  \n",
       "1  2023-07-19 20:52:48    positivo     0.9899  \n",
       "2  2023-07-06 23:03:11    positivo     0.9076  \n",
       "3  2023-07-10 00:53:25    positivo     0.4114  \n",
       "4  2023-07-06 16:57:43    positivo     0.8860  "
      ]
     },
     "execution_count": 6,
     "metadata": {},
     "output_type": "execute_result"
    }
   ],
   "source": [
    "dataset.head()"
   ]
  },
  {
   "cell_type": "code",
   "execution_count": 7,
   "id": "31dff261",
   "metadata": {},
   "outputs": [
    {
     "name": "stdout",
     "output_type": "stream",
     "text": [
      "Sentimiento  negativo  neutral  positivo\n",
      "rating                                  \n",
      "1                3760     3981      1985\n",
      "2                 530      558       708\n",
      "3                 469      757      1359\n",
      "4                 220      781      2243\n",
      "5                 470     4495     10594\n"
     ]
    }
   ],
   "source": [
    "columna_x = dataset.rating\n",
    "columna_y = dataset.Sentimiento\n",
    "\n",
    "tabla_cruzada =  pd.crosstab(columna_x, columna_y)\n",
    "\n",
    "# Mostrar la tabla cruzada\n",
    "print(tabla_cruzada)"
   ]
  },
  {
   "cell_type": "code",
   "execution_count": 8,
   "id": "de93900f",
   "metadata": {},
   "outputs": [],
   "source": [
    "# Hacer un analisis descriptivo"
   ]
  },
  {
   "cell_type": "code",
   "execution_count": 8,
   "id": "4e675ae1",
   "metadata": {},
   "outputs": [],
   "source": [
    "from sklearn.feature_extraction.text import TfidfVectorizer\n",
    "from sklearn.model_selection import train_test_split\n",
    "from sklearn.ensemble import RandomForestClassifier\n",
    "from sklearn.linear_model import LogisticRegression\n",
    "from sklearn.ensemble import VotingClassifier\n",
    "from sklearn.metrics import accuracy_score, classification_report"
   ]
  },
  {
   "cell_type": "code",
   "execution_count": 9,
   "id": "8c031dfc",
   "metadata": {},
   "outputs": [],
   "source": [
    "# Dividir los datos en conjunto de entrenamiento y prueba\n",
    "X = dataset['review_description']\n",
    "y = dataset['Sentimiento']\n",
    "X_train, X_test, y_train, y_test = train_test_split(X, y, test_size=0.2, random_state=42)"
   ]
  },
  {
   "cell_type": "code",
   "execution_count": 10,
   "id": "ee1f890f",
   "metadata": {},
   "outputs": [],
   "source": [
    "# Crear un vectorizador TF-IDF\n",
    "# Probar otro embeding: \n",
    "tfidf_vectorizer = TfidfVectorizer(max_features=1000)\n",
    "X_train_tfidf = tfidf_vectorizer.fit_transform(X_train)\n",
    "X_test_tfidf = tfidf_vectorizer.transform(X_test)"
   ]
  },
  {
   "cell_type": "code",
   "execution_count": 28,
   "id": "46ba0fa4",
   "metadata": {},
   "outputs": [],
   "source": [
    "# Probar modelos individuales, con lo diferentes embeding."
   ]
  },
  {
   "cell_type": "code",
   "execution_count": 11,
   "id": "d40e9bf4",
   "metadata": {},
   "outputs": [],
   "source": [
    "# Crear modelos individuales\n",
    "random_forest = RandomForestClassifier(n_estimators=100, random_state=42)\n",
    "logistic_regression = LogisticRegression(max_iter=1000, random_state=42)"
   ]
  },
  {
   "cell_type": "code",
   "execution_count": 12,
   "id": "93d11dc2",
   "metadata": {},
   "outputs": [
    {
     "name": "stdout",
     "output_type": "stream",
     "text": [
      "Exactitud Random Forest: 0.8529322394408995\n",
      "Reporte de Clasificación Random Forest:\n",
      "               precision    recall  f1-score   support\n",
      "\n",
      "    negativo       0.82      0.55      0.66      1084\n",
      "     neutral       0.85      0.88      0.86      2133\n",
      "    positivo       0.86      0.94      0.90      3365\n",
      "\n",
      "    accuracy                           0.85      6582\n",
      "   macro avg       0.84      0.79      0.81      6582\n",
      "weighted avg       0.85      0.85      0.85      6582\n",
      "\n"
     ]
    }
   ],
   "source": [
    "# Entrenar el modelo Random Forest\n",
    "random_forest.fit(X_train_tfidf, y_train)\n",
    "\n",
    "# Realizar predicciones en el conjunto de prueba\n",
    "predictions_rf = random_forest.predict(X_test_tfidf)\n",
    "\n",
    "# Evaluar el rendimiento del modelo Random Forest\n",
    "accuracy_rf = accuracy_score(y_test, predictions_rf)\n",
    "classification_rep_rf = classification_report(y_test, predictions_rf)\n",
    "\n",
    "print(\"Exactitud Random Forest:\", accuracy_rf)\n",
    "print(\"Reporte de Clasificación Random Forest:\\n\", classification_rep_rf)\n"
   ]
  },
  {
   "cell_type": "code",
   "execution_count": 13,
   "id": "a52b6360",
   "metadata": {},
   "outputs": [
    {
     "name": "stdout",
     "output_type": "stream",
     "text": [
      "Exactitud Regresión Logística: 0.8708599209966575\n",
      "Reporte de Clasificación Regresión Logística:\n",
      "               precision    recall  f1-score   support\n",
      "\n",
      "    negativo       0.77      0.64      0.70      1084\n",
      "     neutral       0.86      0.91      0.88      2133\n",
      "    positivo       0.91      0.92      0.91      3365\n",
      "\n",
      "    accuracy                           0.87      6582\n",
      "   macro avg       0.84      0.82      0.83      6582\n",
      "weighted avg       0.87      0.87      0.87      6582\n",
      "\n"
     ]
    }
   ],
   "source": [
    "# Entrenar el modelo de Regresión Logística\n",
    "logistic_regression.fit(X_train_tfidf, y_train)\n",
    "\n",
    "# Realizar predicciones en el conjunto de prueba\n",
    "predictions_lr = logistic_regression.predict(X_test_tfidf)\n",
    "\n",
    "# Evaluar el rendimiento del modelo de Regresión Logística\n",
    "accuracy_lr = accuracy_score(y_test, predictions_lr)\n",
    "classification_rep_lr = classification_report(y_test, predictions_lr)\n",
    "\n",
    "print(\"Exactitud Regresión Logística:\", accuracy_lr)\n",
    "print(\"Reporte de Clasificación Regresión Logística:\\n\", classification_rep_lr)\n"
   ]
  },
  {
   "cell_type": "code",
   "execution_count": 30,
   "id": "082fee56",
   "metadata": {},
   "outputs": [],
   "source": [
    "# Crear el ensamblaje (Voting Classifier)\n",
    "ensemble = VotingClassifier(estimators=[('rf', random_forest), ('lr', logistic_regression)], voting='soft')\n"
   ]
  },
  {
   "cell_type": "code",
   "execution_count": 31,
   "id": "233666b6",
   "metadata": {},
   "outputs": [
    {
     "data": {
      "text/html": [
       "<style>#sk-container-id-1 {color: black;background-color: white;}#sk-container-id-1 pre{padding: 0;}#sk-container-id-1 div.sk-toggleable {background-color: white;}#sk-container-id-1 label.sk-toggleable__label {cursor: pointer;display: block;width: 100%;margin-bottom: 0;padding: 0.3em;box-sizing: border-box;text-align: center;}#sk-container-id-1 label.sk-toggleable__label-arrow:before {content: \"▸\";float: left;margin-right: 0.25em;color: #696969;}#sk-container-id-1 label.sk-toggleable__label-arrow:hover:before {color: black;}#sk-container-id-1 div.sk-estimator:hover label.sk-toggleable__label-arrow:before {color: black;}#sk-container-id-1 div.sk-toggleable__content {max-height: 0;max-width: 0;overflow: hidden;text-align: left;background-color: #f0f8ff;}#sk-container-id-1 div.sk-toggleable__content pre {margin: 0.2em;color: black;border-radius: 0.25em;background-color: #f0f8ff;}#sk-container-id-1 input.sk-toggleable__control:checked~div.sk-toggleable__content {max-height: 200px;max-width: 100%;overflow: auto;}#sk-container-id-1 input.sk-toggleable__control:checked~label.sk-toggleable__label-arrow:before {content: \"▾\";}#sk-container-id-1 div.sk-estimator input.sk-toggleable__control:checked~label.sk-toggleable__label {background-color: #d4ebff;}#sk-container-id-1 div.sk-label input.sk-toggleable__control:checked~label.sk-toggleable__label {background-color: #d4ebff;}#sk-container-id-1 input.sk-hidden--visually {border: 0;clip: rect(1px 1px 1px 1px);clip: rect(1px, 1px, 1px, 1px);height: 1px;margin: -1px;overflow: hidden;padding: 0;position: absolute;width: 1px;}#sk-container-id-1 div.sk-estimator {font-family: monospace;background-color: #f0f8ff;border: 1px dotted black;border-radius: 0.25em;box-sizing: border-box;margin-bottom: 0.5em;}#sk-container-id-1 div.sk-estimator:hover {background-color: #d4ebff;}#sk-container-id-1 div.sk-parallel-item::after {content: \"\";width: 100%;border-bottom: 1px solid gray;flex-grow: 1;}#sk-container-id-1 div.sk-label:hover label.sk-toggleable__label {background-color: #d4ebff;}#sk-container-id-1 div.sk-serial::before {content: \"\";position: absolute;border-left: 1px solid gray;box-sizing: border-box;top: 0;bottom: 0;left: 50%;z-index: 0;}#sk-container-id-1 div.sk-serial {display: flex;flex-direction: column;align-items: center;background-color: white;padding-right: 0.2em;padding-left: 0.2em;position: relative;}#sk-container-id-1 div.sk-item {position: relative;z-index: 1;}#sk-container-id-1 div.sk-parallel {display: flex;align-items: stretch;justify-content: center;background-color: white;position: relative;}#sk-container-id-1 div.sk-item::before, #sk-container-id-1 div.sk-parallel-item::before {content: \"\";position: absolute;border-left: 1px solid gray;box-sizing: border-box;top: 0;bottom: 0;left: 50%;z-index: -1;}#sk-container-id-1 div.sk-parallel-item {display: flex;flex-direction: column;z-index: 1;position: relative;background-color: white;}#sk-container-id-1 div.sk-parallel-item:first-child::after {align-self: flex-end;width: 50%;}#sk-container-id-1 div.sk-parallel-item:last-child::after {align-self: flex-start;width: 50%;}#sk-container-id-1 div.sk-parallel-item:only-child::after {width: 0;}#sk-container-id-1 div.sk-dashed-wrapped {border: 1px dashed gray;margin: 0 0.4em 0.5em 0.4em;box-sizing: border-box;padding-bottom: 0.4em;background-color: white;}#sk-container-id-1 div.sk-label label {font-family: monospace;font-weight: bold;display: inline-block;line-height: 1.2em;}#sk-container-id-1 div.sk-label-container {text-align: center;}#sk-container-id-1 div.sk-container {/* jupyter's `normalize.less` sets `[hidden] { display: none; }` but bootstrap.min.css set `[hidden] { display: none !important; }` so we also need the `!important` here to be able to override the default hidden behavior on the sphinx rendered scikit-learn.org. See: https://github.com/scikit-learn/scikit-learn/issues/21755 */display: inline-block !important;position: relative;}#sk-container-id-1 div.sk-text-repr-fallback {display: none;}</style><div id=\"sk-container-id-1\" class=\"sk-top-container\"><div class=\"sk-text-repr-fallback\"><pre>VotingClassifier(estimators=[(&#x27;rf&#x27;, RandomForestClassifier(random_state=42)),\n",
       "                             (&#x27;lr&#x27;,\n",
       "                              LogisticRegression(max_iter=1000,\n",
       "                                                 random_state=42))],\n",
       "                 voting=&#x27;soft&#x27;)</pre><b>In a Jupyter environment, please rerun this cell to show the HTML representation or trust the notebook. <br />On GitHub, the HTML representation is unable to render, please try loading this page with nbviewer.org.</b></div><div class=\"sk-container\" hidden><div class=\"sk-item sk-dashed-wrapped\"><div class=\"sk-label-container\"><div class=\"sk-label sk-toggleable\"><input class=\"sk-toggleable__control sk-hidden--visually\" id=\"sk-estimator-id-1\" type=\"checkbox\" ><label for=\"sk-estimator-id-1\" class=\"sk-toggleable__label sk-toggleable__label-arrow\">VotingClassifier</label><div class=\"sk-toggleable__content\"><pre>VotingClassifier(estimators=[(&#x27;rf&#x27;, RandomForestClassifier(random_state=42)),\n",
       "                             (&#x27;lr&#x27;,\n",
       "                              LogisticRegression(max_iter=1000,\n",
       "                                                 random_state=42))],\n",
       "                 voting=&#x27;soft&#x27;)</pre></div></div></div><div class=\"sk-parallel\"><div class=\"sk-parallel-item\"><div class=\"sk-item\"><div class=\"sk-label-container\"><div class=\"sk-label sk-toggleable\"><label>rf</label></div></div><div class=\"sk-serial\"><div class=\"sk-item\"><div class=\"sk-estimator sk-toggleable\"><input class=\"sk-toggleable__control sk-hidden--visually\" id=\"sk-estimator-id-2\" type=\"checkbox\" ><label for=\"sk-estimator-id-2\" class=\"sk-toggleable__label sk-toggleable__label-arrow\">RandomForestClassifier</label><div class=\"sk-toggleable__content\"><pre>RandomForestClassifier(random_state=42)</pre></div></div></div></div></div></div><div class=\"sk-parallel-item\"><div class=\"sk-item\"><div class=\"sk-label-container\"><div class=\"sk-label sk-toggleable\"><label>lr</label></div></div><div class=\"sk-serial\"><div class=\"sk-item\"><div class=\"sk-estimator sk-toggleable\"><input class=\"sk-toggleable__control sk-hidden--visually\" id=\"sk-estimator-id-3\" type=\"checkbox\" ><label for=\"sk-estimator-id-3\" class=\"sk-toggleable__label sk-toggleable__label-arrow\">LogisticRegression</label><div class=\"sk-toggleable__content\"><pre>LogisticRegression(max_iter=1000, random_state=42)</pre></div></div></div></div></div></div></div></div></div></div>"
      ],
      "text/plain": [
       "VotingClassifier(estimators=[('rf', RandomForestClassifier(random_state=42)),\n",
       "                             ('lr',\n",
       "                              LogisticRegression(max_iter=1000,\n",
       "                                                 random_state=42))],\n",
       "                 voting='soft')"
      ]
     },
     "execution_count": 31,
     "metadata": {},
     "output_type": "execute_result"
    }
   ],
   "source": [
    "# Entrenar el modelo ensamblado\n",
    "ensemble.fit(X_train_tfidf, y_train)"
   ]
  },
  {
   "cell_type": "code",
   "execution_count": 32,
   "id": "c7f94b8b",
   "metadata": {},
   "outputs": [],
   "source": [
    "# Realizar predicciones en el conjunto de prueba\n",
    "predictions = ensemble.predict(X_test_tfidf)"
   ]
  },
  {
   "cell_type": "code",
   "execution_count": 33,
   "id": "c8658e0d",
   "metadata": {},
   "outputs": [
    {
     "name": "stdout",
     "output_type": "stream",
     "text": [
      "Exactitud: 0.8746581586144029\n",
      "Reporte de Clasificación:\n",
      "               precision    recall  f1-score   support\n",
      "\n",
      "    negativo       0.81      0.63      0.71      1084\n",
      "     neutral       0.86      0.90      0.88      2133\n",
      "    positivo       0.90      0.93      0.92      3365\n",
      "\n",
      "    accuracy                           0.87      6582\n",
      "   macro avg       0.86      0.82      0.84      6582\n",
      "weighted avg       0.87      0.87      0.87      6582\n",
      "\n"
     ]
    }
   ],
   "source": [
    "# Evaluar el rendimiento del modelo\n",
    "accuracy = accuracy_score(y_test, predictions)\n",
    "classification_rep = classification_report(y_test, predictions)\n",
    "\n",
    "print(\"Exactitud:\", accuracy)\n",
    "print(\"Reporte de Clasificación:\\n\", classification_rep)"
   ]
  },
  {
   "cell_type": "code",
   "execution_count": 34,
   "id": "a230b98d",
   "metadata": {},
   "outputs": [
    {
     "data": {
      "text/plain": [
       "23143                                               Glitch\n",
       "1337     Display rendering issue where text overlays on...\n",
       "25039                                                   😌❤\n",
       "7726     Worst, Just copy and paste instagram code to t...\n",
       "18505                                                  ممل\n",
       "                               ...                        \n",
       "22960                                               BORING\n",
       "20371                                             Best app\n",
       "13687                                   Kit cat copy paste\n",
       "21816                                                 Good\n",
       "18195                                     the app is osm 🙏\n",
       "Name: review_description, Length: 6582, dtype: object"
      ]
     },
     "execution_count": 34,
     "metadata": {},
     "output_type": "execute_result"
    }
   ],
   "source": [
    "X_test"
   ]
  },
  {
   "cell_type": "code",
   "execution_count": 37,
   "id": "89ea9fb2",
   "metadata": {},
   "outputs": [
    {
     "name": "stdout",
     "output_type": "stream",
     "text": [
      "                                                Columna1  Columna2\n",
      "23143                                             Glitch   neutral\n",
      "1337   Display rendering issue where text overlays on...  positivo\n",
      "25039                                                 😌❤   neutral\n",
      "7726   Worst, Just copy and paste instagram code to t...  negativo\n",
      "18505                                                ممل   neutral\n",
      "...                                                  ...       ...\n",
      "22960                                             BORING  negativo\n",
      "20371                                           Best app  positivo\n",
      "13687                                 Kit cat copy paste   neutral\n",
      "21816                                               Good  positivo\n",
      "18195                                   the app is osm 🙏   neutral\n",
      "\n",
      "[6582 rows x 2 columns]\n"
     ]
    }
   ],
   "source": [
    "# Supongamos que tienes dos arrays\n",
    "array1 = X_test\n",
    "array2 = predictions\n",
    "\n",
    "# Crear un DataFrame a partir de los arrays\n",
    "data = {'Columna1': array1, 'Columna2': array2}\n",
    "df = pd.DataFrame(data)\n",
    "\n",
    "# Mostrar el dataset resultante\n",
    "print(df)"
   ]
  },
  {
   "cell_type": "markdown",
   "id": "e9b49261",
   "metadata": {},
   "source": [
    "### Analisis descriptivo"
   ]
  },
  {
   "cell_type": "code",
   "execution_count": 1,
   "id": "e8b316fb",
   "metadata": {},
   "outputs": [
    {
     "ename": "NameError",
     "evalue": "name 'pd' is not defined",
     "output_type": "error",
     "traceback": [
      "\u001b[1;31m---------------------------------------------------------------------------\u001b[0m",
      "\u001b[1;31mNameError\u001b[0m                                 Traceback (most recent call last)",
      "Input \u001b[1;32mIn [1]\u001b[0m, in \u001b[0;36m<cell line: 2>\u001b[1;34m()\u001b[0m\n\u001b[0;32m      1\u001b[0m url \u001b[38;5;241m=\u001b[39m \u001b[38;5;124m\"\u001b[39m\u001b[38;5;124mcomentarios_telecomunicaciones.csv\u001b[39m\u001b[38;5;124m\"\u001b[39m\n\u001b[1;32m----> 2\u001b[0m df \u001b[38;5;241m=\u001b[39m \u001b[43mpd\u001b[49m\u001b[38;5;241m.\u001b[39mread_csv(url, sep \u001b[38;5;241m=\u001b[39m \u001b[38;5;124m\"\u001b[39m\u001b[38;5;124m,\u001b[39m\u001b[38;5;124m\"\u001b[39m)\n\u001b[0;32m      3\u001b[0m df[\u001b[38;5;124m'\u001b[39m\u001b[38;5;124mSentimiento\u001b[39m\u001b[38;5;124m'\u001b[39m] \u001b[38;5;241m=\u001b[39m \u001b[38;5;124m'\u001b[39m\u001b[38;5;124m'\u001b[39m\n\u001b[0;32m      4\u001b[0m df[\u001b[38;5;124m'\u001b[39m\u001b[38;5;124mPolaridad\u001b[39m\u001b[38;5;124m'\u001b[39m] \u001b[38;5;241m=\u001b[39m \u001b[38;5;241m0.0\u001b[39m\n",
      "\u001b[1;31mNameError\u001b[0m: name 'pd' is not defined"
     ]
    }
   ],
   "source": [
    "url = \"comentarios_telecomunicaciones.csv\"\n",
    "df = pd.read_csv(url, sep = \",\")\n",
    "df['Sentimiento'] = ''\n",
    "df['Polaridad'] = 0.0"
   ]
  },
  {
   "cell_type": "code",
   "execution_count": 11,
   "id": "82275eed",
   "metadata": {},
   "outputs": [
    {
     "name": "stdout",
     "output_type": "stream",
     "text": [
      "Resumen estadístico de la variable 'Fecha':\n",
      "Fecha más temprana: 2022-10-18 09:43:33\n",
      "Fecha más reciente: 2023-10-16 04:22:08\n",
      "\n",
      "Conteo de categorías en la variable 'Producto':\n",
      "Fibra Óptica            47\n",
      "Telefonía Móvil         36\n",
      "Internet                35\n",
      "Televisión por Cable    32\n",
      "Name: Producto, dtype: int64\n",
      "\n",
      "Longitud promedio de los comentarios:\n",
      "94.48\n"
     ]
    }
   ],
   "source": [
    "# Realizar un análisis descriptivo de las variables\n",
    "# Puedes repetir los pasos anteriores para cada variable, como Fecha, Producto y Comentario\n",
    "\n",
    "# Ejemplo de análisis de la variable \"Fecha\"\n",
    "fecha_min = df['Fecha'].min()\n",
    "fecha_max = df['Fecha'].max()\n",
    "\n",
    "# Ejemplo de análisis de la variable \"Producto\"\n",
    "productos_count = df['Producto'].value_counts()\n",
    "\n",
    "# Ejemplo de análisis de la variable \"Comentario\"\n",
    "longitud_promedio = df['Comentario'].apply(len).mean()\n",
    "\n",
    "# Imprimir los resultados\n",
    "print(\"Resumen estadístico de la variable 'Fecha':\")\n",
    "print(\"Fecha más temprana:\", fecha_min)\n",
    "print(\"Fecha más reciente:\", fecha_max)\n",
    "\n",
    "print(\"\\nConteo de categorías en la variable 'Producto':\")\n",
    "print(productos_count)\n",
    "\n",
    "print(\"\\nLongitud promedio de los comentarios:\")\n",
    "print(longitud_promedio)"
   ]
  },
  {
   "cell_type": "code",
   "execution_count": 12,
   "id": "08f2629a",
   "metadata": {},
   "outputs": [
    {
     "data": {
      "image/png": "[encoded data removed]",
      "text/plain": [
       "<Figure size 1000x600 with 1 Axes>"
      ]
     },
     "metadata": {},
     "output_type": "display_data"
    }
   ],
   "source": [
    "# Calcular el conteo de categorías en la variable 'Producto'\n",
    "productos_count = df['Producto'].value_counts()\n",
    "\n",
    "# Crear un gráfico de barras\n",
    "plt.figure(figsize=(10, 6))\n",
    "productos_count.plot(kind='bar', color='skyblue')\n",
    "plt.title(\"Distribución de Comentarios por Producto\")\n",
    "plt.xlabel(\"Producto\")\n",
    "plt.ylabel(\"Número de Comentarios\")\n",
    "plt.xticks(rotation=45)  # Rotar las etiquetas del eje x para una mejor legibilidad\n",
    "\n",
    "# Mostrar el gráfico\n",
    "plt.show()"
   ]
  },
  {
   "cell_type": "code",
   "execution_count": 20,
   "id": "9d481adb",
   "metadata": {},
   "outputs": [
    {
     "data": {
      "text/html": [
       "<div>\n",
       "<style scoped>\n",
       "    .dataframe tbody tr th:only-of-type {\n",
       "        vertical-align: middle;\n",
       "    }\n",
       "\n",
       "    .dataframe tbody tr th {\n",
       "        vertical-align: top;\n",
       "    }\n",
       "\n",
       "    .dataframe thead th {\n",
       "        text-align: right;\n",
       "    }\n",
       "</style>\n",
       "<table border=\"1\" class=\"dataframe\">\n",
       "  <thead>\n",
       "    <tr style=\"text-align: right;\">\n",
       "      <th></th>\n",
       "      <th>Fecha</th>\n",
       "      <th>Producto</th>\n",
       "      <th>Comentario</th>\n",
       "      <th>Sentimiento</th>\n",
       "      <th>Polaridad</th>\n",
       "      <th>flesch_reading_ease</th>\n",
       "      <th>smog_index</th>\n",
       "      <th>coleman_liau_index</th>\n",
       "    </tr>\n",
       "  </thead>\n",
       "  <tbody>\n",
       "    <tr>\n",
       "      <th>0</th>\n",
       "      <td>2023-10-16 00:07:53</td>\n",
       "      <td>Internet</td>\n",
       "      <td>Public three former pull design. Officer sport...</td>\n",
       "      <td></td>\n",
       "      <td>0.0</td>\n",
       "      <td>48.77</td>\n",
       "      <td>9.7</td>\n",
       "      <td>12.28</td>\n",
       "    </tr>\n",
       "    <tr>\n",
       "      <th>1</th>\n",
       "      <td>2023-04-05 12:41:01</td>\n",
       "      <td>Fibra Óptica</td>\n",
       "      <td>Majority this oil who increase information. Cu...</td>\n",
       "      <td></td>\n",
       "      <td>0.0</td>\n",
       "      <td>65.08</td>\n",
       "      <td>7.8</td>\n",
       "      <td>9.97</td>\n",
       "    </tr>\n",
       "    <tr>\n",
       "      <th>2</th>\n",
       "      <td>2023-09-26 17:53:40</td>\n",
       "      <td>Fibra Óptica</td>\n",
       "      <td>Fact by baby suggest. Degree wait field situat...</td>\n",
       "      <td></td>\n",
       "      <td>0.0</td>\n",
       "      <td>58.24</td>\n",
       "      <td>7.8</td>\n",
       "      <td>9.48</td>\n",
       "    </tr>\n",
       "    <tr>\n",
       "      <th>3</th>\n",
       "      <td>2023-09-03 18:53:07</td>\n",
       "      <td>Televisión por Cable</td>\n",
       "      <td>Likely sea there notice prevent ready maybe. D...</td>\n",
       "      <td></td>\n",
       "      <td>0.0</td>\n",
       "      <td>47.45</td>\n",
       "      <td>9.7</td>\n",
       "      <td>14.57</td>\n",
       "    </tr>\n",
       "    <tr>\n",
       "      <th>4</th>\n",
       "      <td>2022-10-25 16:46:51</td>\n",
       "      <td>Telefonía Móvil</td>\n",
       "      <td>As whatever bring economy. Night more across c...</td>\n",
       "      <td></td>\n",
       "      <td>0.0</td>\n",
       "      <td>74.86</td>\n",
       "      <td>0.0</td>\n",
       "      <td>6.70</td>\n",
       "    </tr>\n",
       "  </tbody>\n",
       "</table>\n",
       "</div>"
      ],
      "text/plain": [
       "                 Fecha              Producto  \\\n",
       "0  2023-10-16 00:07:53              Internet   \n",
       "1  2023-04-05 12:41:01          Fibra Óptica   \n",
       "2  2023-09-26 17:53:40          Fibra Óptica   \n",
       "3  2023-09-03 18:53:07  Televisión por Cable   \n",
       "4  2022-10-25 16:46:51       Telefonía Móvil   \n",
       "\n",
       "                                          Comentario Sentimiento  Polaridad  \\\n",
       "0  Public three former pull design. Officer sport...                    0.0   \n",
       "1  Majority this oil who increase information. Cu...                    0.0   \n",
       "2  Fact by baby suggest. Degree wait field situat...                    0.0   \n",
       "3  Likely sea there notice prevent ready maybe. D...                    0.0   \n",
       "4  As whatever bring economy. Night more across c...                    0.0   \n",
       "\n",
       "   flesch_reading_ease  smog_index  coleman_liau_index  \n",
       "0                48.77         9.7               12.28  \n",
       "1                65.08         7.8                9.97  \n",
       "2                58.24         7.8                9.48  \n",
       "3                47.45         9.7               14.57  \n",
       "4                74.86         0.0                6.70  "
      ]
     },
     "execution_count": 20,
     "metadata": {},
     "output_type": "execute_result"
    }
   ],
   "source": [
    "from textstat import flesch_reading_ease, smog_index, coleman_liau_index\n",
    "\n",
    "# Supongamos que tienes un DataFrame llamado 'df' con una columna 'review_description'\n",
    "\n",
    "# Calcular la legibilidad utilizando la métrica Flesch Reading Ease\n",
    "df['flesch_reading_ease'] = df['Comentario'].apply(flesch_reading_ease)\n",
    "\n",
    "# Calcular la legibilidad utilizando la métrica SMOG Index\n",
    "df['smog_index'] = df['Comentario'].apply(smog_index)\n",
    "\n",
    "# Calcular la legibilidad utilizando la métrica Coleman-Liau Index\n",
    "df['coleman_liau_index'] = df['Comentario'].apply(coleman_liau_index)"
   ]
  },
  {
   "cell_type": "code",
   "execution_count": 21,
   "id": "4c67db55",
   "metadata": {},
   "outputs": [
    {
     "data": {
      "image/png": "[encoded data removed]",
      "text/plain": [
       "<Figure size 1000x600 with 1 Axes>"
      ]
     },
     "metadata": {},
     "output_type": "display_data"
    }
   ],
   "source": [
    "# Supongamos que tienes un DataFrame llamado 'df' que contiene tus datos\n",
    "# Puedes seleccionar las columnas relevantes para las métricas de legibilidad\n",
    "legibility_metrics = df[['flesch_reading_ease', 'smog_index', 'coleman_liau_index']]\n",
    "\n",
    "# Crear un gráfico de cajas para visualizar la distribución de las métricas\n",
    "plt.figure(figsize=(10, 6))\n",
    "legibility_metrics.boxplot()\n",
    "plt.title(\"Distribución de Métricas de Legibilidad\")\n",
    "plt.ylabel(\"Valor de la Métrica\")\n",
    "plt.xticks(rotation=45)\n",
    "plt.show()\n"
   ]
  },
  {
   "cell_type": "code",
   "execution_count": 23,
   "id": "2b622bf0",
   "metadata": {},
   "outputs": [
    {
     "name": "stdout",
     "output_type": "stream",
     "text": [
      "       flesch_reading_ease  smog_index  coleman_liau_index\n",
      "count           150.000000  150.000000          150.000000\n",
      "mean             64.001333    4.432667           10.189267\n",
      "std              20.721307    4.037600            3.446498\n",
      "min               5.660000    0.000000            1.060000\n",
      "25%              49.530000    0.000000            7.920000\n",
      "50%              65.390000    6.400000            9.835000\n",
      "75%              75.160000    7.800000           12.440000\n",
      "max             117.160000   11.200000           19.770000\n"
     ]
    }
   ],
   "source": [
    "# Calcula el resumen estadístico\n",
    "summary = df[['flesch_reading_ease', 'smog_index', 'coleman_liau_index']].describe()\n",
    "\n",
    "# Imprime el resumen estadístico\n",
    "print(summary)"
   ]
  },
  {
   "cell_type": "code",
   "execution_count": 44,
   "id": "52218282",
   "metadata": {},
   "outputs": [],
   "source": [
    "tweets  = df.Comentario"
   ]
  },
  {
   "cell_type": "code",
   "execution_count": 45,
   "id": "4bbc23df",
   "metadata": {},
   "outputs": [],
   "source": [
    "# Realizar análisis de sentimientos y guardar los resultados en el conjunto de datos\n",
    "for index, row in df.iterrows():\n",
    "    tweet = row['Comentario']\n",
    "    resultados = sia.polarity_scores(tweet)\n",
    "    polaridad = resultados['compound']\n",
    "    \n",
    "    if polaridad > 0.05:\n",
    "        sentimiento = \"positivo\"\n",
    "    elif polaridad < -0.05:\n",
    "        sentimiento = \"negativo\"\n",
    "    else:\n",
    "        sentimiento = \"neutral\"\n",
    "    \n",
    "    df.at[index, 'Sentimiento'] = sentimiento\n",
    "    df.at[index, 'Polaridad'] = polaridad"
   ]
  },
  {
   "cell_type": "code",
   "execution_count": 24,
   "id": "59daaf4c",
   "metadata": {},
   "outputs": [
    {
     "name": "stdout",
     "output_type": "stream",
     "text": [
      "Sentimiento           negativo  neutral  positivo\n",
      "Producto                                         \n",
      "Fibra Óptica                11       12        24\n",
      "Internet                     8        9        18\n",
      "Telefonía Móvil              7        7        22\n",
      "Televisión por Cable        13        6        13\n"
     ]
    }
   ],
   "source": [
    "columna_x = df.Producto\n",
    "columna_y = df.Sentimiento\n",
    "\n",
    "tabla_cruzada =  pd.crosstab(columna_x, columna_y)\n",
    "\n",
    "# Mostrar la tabla cruzada\n",
    "print(tabla_cruzada)"
   ]
  },
  {
   "cell_type": "code",
   "execution_count": 47,
   "id": "f341f815",
   "metadata": {},
   "outputs": [],
   "source": [
    "X_test = df['Comentario']\n",
    "X_test_tfidf = tfidf_vectorizer.transform(X_test)"
   ]
  },
  {
   "cell_type": "code",
   "execution_count": 48,
   "id": "7b5d276e",
   "metadata": {},
   "outputs": [],
   "source": [
    "# Realizar predicciones en el conjunto de prueba\n",
    "predictions = ensemble.predict(X_test_tfidf)"
   ]
  },
  {
   "cell_type": "code",
   "execution_count": 50,
   "id": "272f422d",
   "metadata": {},
   "outputs": [
    {
     "name": "stdout",
     "output_type": "stream",
     "text": [
      "Exactitud: 0.6133333333333333\n",
      "Reporte de Clasificación:\n",
      "               precision    recall  f1-score   support\n",
      "\n",
      "    negativo       0.85      0.28      0.42        39\n",
      "     neutral       0.39      0.94      0.55        34\n",
      "    positivo       0.89      0.64      0.74        77\n",
      "\n",
      "    accuracy                           0.61       150\n",
      "   macro avg       0.71      0.62      0.57       150\n",
      "weighted avg       0.77      0.61      0.62       150\n",
      "\n"
     ]
    }
   ],
   "source": [
    "# Evaluar el rendimiento del modelo\n",
    "y_test = df['Sentimiento']\n",
    "accuracy = accuracy_score(y_test, predictions)\n",
    "classification_rep = classification_report(y_test, predictions)\n",
    "\n",
    "print(\"Exactitud:\", accuracy)\n",
    "print(\"Reporte de Clasificación:\\n\", classification_rep)"
   ]
  }
 ],
 "metadata": {
  "kernelspec": {
   "display_name": "Python 3",
   "language": "python",
   "name": "python3"
  },
  "language_info": {
   "codemirror_mode": {
    "name": "ipython",
    "version": 3
   },
   "file_extension": ".py",
   "mimetype": "text/x-python",
   "name": "python",
   "nbconvert_exporter": "python",
   "pygments_lexer": "ipython3",
   "version": "3.8.8"
  }
 },
 "nbformat": 4,
 "nbformat_minor": 5
}
